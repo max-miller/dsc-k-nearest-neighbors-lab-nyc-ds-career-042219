{
 "cells": [
  {
   "cell_type": "markdown",
   "metadata": {},
   "source": [
    "# K-Nearest Neighbors - Lab\n",
    "\n",
    "## Introduction\n",
    "\n",
    "In this lesson, you'll build a simple version of a **_K-Nearest Neigbors Classifier_** from scratch, and train it to make predictions on a dataset!\n",
    "\n",
    "## Objectives\n",
    "\n",
    "You will be able to:\n",
    "\n",
    "* Implement a basic KNN algorithm from scratch\n",
    "\n",
    "## Getting Started\n",
    "\n",
    "You'll begin this lab by creating a classifier. To keep things simple, you'll be using a helper function from the scipy library to calculate euclidean distance&mdash;specifically, the `euclidean()` function from the `scipy.spatial.distance` module. Import this function in the cell below."
   ]
  },
  {
   "cell_type": "code",
   "execution_count": 1,
   "metadata": {},
   "outputs": [],
   "source": [
    "from scipy.spatial.distance import euclidean as euc\n",
    "import numpy as np\n",
    "np.random.seed(0)"
   ]
  },
  {
   "cell_type": "markdown",
   "metadata": {},
   "source": [
    "Great! Now, you need to define a `KNN` class. Since you don't need to do anything at initialization, you don't need to modify the `__init__` method at all.\n",
    "\n",
    "In the cell below:\n",
    "\n",
    "* Create an class called `KNN`.\n",
    "* This class should contain two empty methods--`fit`, and `predict`. (Set the body of both of these methods to `pass`)"
   ]
  },
  {
   "cell_type": "code",
   "execution_count": 2,
   "metadata": {},
   "outputs": [],
   "source": [
    "class KNN():\n",
    "    def fit(self):\n",
    "        pass\n",
    "    \n",
    "    def predict(self):\n",
    "        pass\n",
    "    "
   ]
  },
  {
   "cell_type": "markdown",
   "metadata": {},
   "source": [
    "## Completing the `fit` Method\n",
    "\n",
    "Recall that when \"fitting\" a KNN classifier, all you're really doing is storing the points and their corresponding labels. There's no actual \"fitting\" involved here, since all you can do is store the data so that you can use it to calculate the nearest neighbors when the `predict` method is called.\n",
    "\n",
    "The inputs for this function should be:\n",
    "\n",
    "* `self`, since this will be an instance method inside the `KNN` class.\n",
    "* `X_train`--A 2-dimensional array. Each of the internal arrays represents a _vector_ for a given point in space. \n",
    "* `y_train`--the corresponding labels for each vector in `X_train`. The label at `y_train[0]` is the label that corresponds to the vector at `X_train[0]`, and so on. \n",
    "\n",
    "In the cell below, complete the `fit` method."
   ]
  },
  {
   "cell_type": "code",
   "execution_count": 3,
   "metadata": {},
   "outputs": [],
   "source": [
    "def fit(self, X_train, y_train):\n",
    "    self.x_train = X_train\n",
    "    self.y_train = y_train\n",
    "    \n",
    "# This line updates the knn.fit method to point to the function we've just written\n",
    "KNN.fit = fit"
   ]
  },
  {
   "cell_type": "markdown",
   "metadata": {},
   "source": [
    "### Helper Functions\n",
    "\n",
    "Next, write two helper functions to make things easier when completing the `predict` function. The first helper function should return an array containing the distance between a point we pass in and every point inside of `X_train`. \n",
    "\n",
    "In the cell below, complete the `_get_distances()` function. This function should:\n",
    "\n",
    "* Take in two arguments: `self` and `x`\n",
    "* Create an empty array to hold all the distances we're going to calculate\n",
    "* Enumerate through every item in `self.X_train`. For each item: \n",
    "    * Use the `euc()` function we imported to get the distance between x and the current point from `X_train`.\n",
    "    * Create a tuple containing the index and the distance (in that order!) and append it to our `distances` array.\n",
    "* Return the `distances` array when a distance has been generated for each item in `self.X_train`."
   ]
  },
  {
   "cell_type": "code",
   "execution_count": 15,
   "metadata": {},
   "outputs": [
    {
     "data": {
      "text/plain": [
       "3"
      ]
     },
     "execution_count": 15,
     "metadata": {},
     "output_type": "execute_result"
    }
   ],
   "source": [
    "np.shape(np.zeros((3,2)))[0]"
   ]
  },
  {
   "cell_type": "code",
   "execution_count": 42,
   "metadata": {},
   "outputs": [],
   "source": [
    "def distance(a,b,c=2):\n",
    "    working_sum = 0\n",
    "    for n in range(0,len(a)):\n",
    "        working_sum += (np.absolute(a[n] - b[n]))**c\n",
    "    return working_sum ** (1/c)\n",
    "\n",
    "def _get_distances(self, x):\n",
    "    distances = []\n",
    "    for i in range(0,np.shape(self.x_train)[0]):\n",
    "        distances.append(((i),distance(self.x_train[i], x)))\n",
    "    return distances\n",
    "\n",
    "# This line attaches the function we just created as a method to our KNN class.\n",
    "KNN._get_distances = _get_distances"
   ]
  },
  {
   "cell_type": "code",
   "execution_count": null,
   "metadata": {},
   "outputs": [],
   "source": []
  },
  {
   "cell_type": "markdown",
   "metadata": {},
   "source": [
    "Great! The second big challenge in a `predict` method is getting the indices of the k-nearest points. To keep our coming `predict` method nice and clean, abstract this functionality into a helper method called `_get_k_nearest`.  \n",
    "\n",
    "In the cell below, complete the `_get_k_nearest` function.  This function should:\n",
    "\n",
    "* Take in 3 arguments:\n",
    "    * `self`\n",
    "    * `dists`, an array of tuples containing (index, distance), which will be output from the `_get_distances` method. \n",
    "    * `k`, the number of nearest neighbors we want to return.\n",
    "* Sort our `dists` array by distances values, which are the second element in each tuple\n",
    "* Return the first `k` tuples from then (now sorted) `dists` array.\n",
    "\n",
    "**_Hint:_** To easily sort on the second item in the tuples contained within the `dists` array, use the `sorted` function and pass in lambda for the `key=` parameter. To sort on the second element of each tuple, you can just use `key=lambda x: x[1]`!"
   ]
  },
  {
   "cell_type": "code",
   "execution_count": 37,
   "metadata": {},
   "outputs": [],
   "source": [
    "def _get_k_nearest(self, dists, k):\n",
    "    sorted_dists = sorted(dists, key=lambda x: x[1])\n",
    "\n",
    "    return sorted_dists[0:k]\n",
    "\n",
    "# This line attaches the function we just created as a method to our KNN class.\n",
    "KNN._get_k_nearest = _get_k_nearest"
   ]
  },
  {
   "cell_type": "markdown",
   "metadata": {},
   "source": [
    "Now, you have helper functions to help you get the distances, and then get the k-nearest neighbors based on those distances. The final helper function you'll create will get the labels that correspond to each of the k-nearest point, and return the class that occurs the most. \n",
    "\n",
    "Complete the `_get_label_prediction()` function in the cell below. This function should:\n",
    "\n",
    "* Create a list containing the labels from `self.y_train` for each index in `k_nearest` (remember, each item in `k_nearest` is a tuple, and the index is stored as the first item in each tuple)\n",
    "* Get the total counts for each label (use `np.bincount()` and pass in the label array created in the previous step)\n",
    "* Get the index of the label with the highest overall count in counts (use `np.argmax()` for this, and pass in the counts created in the previous step)."
   ]
  },
  {
   "cell_type": "code",
   "execution_count": 32,
   "metadata": {},
   "outputs": [],
   "source": [
    "def _get_label_prediction(self, k_nearest):\n",
    "    labels = []\n",
    "    for neigh in k_nearest:\n",
    "        labels.append(self.y_train[neigh])\n",
    "    return max(set(labels), key=labels.count)\n",
    "\n",
    "# This line attaches the function we just created as a method to our KNN class.\n",
    "KNN._get_label_prediction = _get_label_prediction"
   ]
  },
  {
   "cell_type": "markdown",
   "metadata": {},
   "source": [
    "Great! Now, you need to complete a `predict` method.\n",
    "\n",
    "## Completing the `predict` Method\n",
    "\n",
    "This method does all the heavy lifting for KNN, so this will be a bit more complex than the `fit` method. Here's a rough outline of how the method should work:\n",
    "\n",
    "1. The function takes in an array of vectors that we want predictions for.\n",
    "1. For each vector that we want to make a prediction for: \n",
    "    1a. The classifier calculates the distance between that vector and every other vector in the training set. \n",
    "    1b. The classifier identifies the K nearest vectors to the vector you want a prediction for.\n",
    "    1c. The classifier determines which label the majority of the K nearest neighbors share, and appends this prediction to an array we will output. The index of the prediction in this array should be the same as the index of the point that it corresponds to (e.g. `pred[0]` is the prediction for `X_test[0]`).\n",
    "2. Once predictions have been generated for every vector in question, return the array of predictions. \n",
    "\n",
    "This tells us a few things about what our `predict` function will need to be able to do:\n",
    "\n",
    "* In addition to `self`, our `predict` function should take in two arguments: \n",
    "    * `X_test`, the points we want to classify\n",
    "    * `k`, which specifies the number of neighbors we should use to make the classification.  We'll set `k=3` as a default, but allow the user to update it if they choose.\n",
    "* Your method will need to iterate through every item in `X_test`. For each item:\n",
    "    * Calculate the distance to all points in `X_train` by using our `_get_distances()` helper method we created.\n",
    "    * Find the k-nearest points in `X_train` by using the `_get_k_nearest()` helper method we created\n",
    "    * Use the index values contained within the tuples returned by `_get_k_nearest()` to get the corresponding labels for each of the nearest points. \n",
    "    * Determine which class is most represented in these labels and treat that as the prediction for this point. Append the prediction to `preds`.\n",
    "* Once a prediction has been generated for every item in `X_test`, return `preds`\n",
    "\n",
    "Follow these instructions to complete the `predict()` method in the cell below!"
   ]
  },
  {
   "cell_type": "code",
   "execution_count": 35,
   "metadata": {},
   "outputs": [],
   "source": [
    "def predict(self, X_test, k=3):\n",
    "    ys = []\n",
    "    for x in X_test:\n",
    "        distance_array = self._get_distances(x)\n",
    "        k_nearest = self._get_k_nearest(distance_array,k)\n",
    "        ys.append(self._get_label_prediction(k_nearest))\n",
    "    return ys\n",
    "        \n",
    "KNN.predict = predict"
   ]
  },
  {
   "cell_type": "code",
   "execution_count": 43,
   "metadata": {},
   "outputs": [
    {
     "data": {
      "text/plain": [
       "[(0, 1.2922847983320083),\n",
       " (1, 1.6401219466856722),\n",
       " (2, 1.1357816691600549),\n",
       " (3, 4.544227107000705),\n",
       " (4, 1.1445523142259602),\n",
       " (5, 4.076763422127901),\n",
       " (6, 4.332435804486893),\n",
       " (7, 2.408318915758459),\n",
       " (8, 1.0246950765959602),\n",
       " (9, 1.1958260743101403),\n",
       " (10, 1.1045361017187258),\n",
       " (11, 1.3228756555322956),\n",
       " (12, 1.8055470085267786),\n",
       " (13, 2.1587033144922905),\n",
       " (14, 1.1401754250991376),\n",
       " (15, 1.9052558883257649),\n",
       " (16, 0.8124038404635957),\n",
       " (17, 1.0295630140987),\n",
       " (18, 1.3228756555322947),\n",
       " (19, 0.7745966692414833),\n",
       " (20, 1.661324772583615),\n",
       " (21, 0.8366600265340758),\n",
       " (22, 1.183215956619923),\n",
       " (23, 4.263801121065568),\n",
       " (24, 0.5099019513592784),\n",
       " (25, 1.4387494569938155),\n",
       " (26, 1.8734993995195193),\n",
       " (27, 1.6124515496597096),\n",
       " (28, 1.174734012447073),\n",
       " (29, 1.813835714721706),\n",
       " (30, 4.342810150121692),\n",
       " (31, 4.8559242168715935),\n",
       " (32, 0.8124038404635965),\n",
       " (33, 1.5165750888103098),\n",
       " (34, 4.113392760240626),\n",
       " (35, 4.419275958796871),\n",
       " (36, 1.4662878298615183),\n",
       " (37, 4.396589587396122),\n",
       " (38, 0.6403124237432849),\n",
       " (39, 2.5845695966640165),\n",
       " (40, 4.460941604639093),\n",
       " (41, 1.2999999999999998),\n",
       " (42, 1.9000000000000004),\n",
       " (43, 1.4282856857085695),\n",
       " (44, 4.474371464239418),\n",
       " (45, 1.5684387141358123),\n",
       " (46, 1.3190905958272927),\n",
       " (47, 1.0295630140987002),\n",
       " (48, 0.8366600265340759),\n",
       " (49, 4.31045241245046),\n",
       " (50, 4.295346318982905),\n",
       " (51, 0.9000000000000002),\n",
       " (52, 1.2288205727444512),\n",
       " (53, 4.559605246071199),\n",
       " (54, 0.7874007874011816),\n",
       " (55, 4.402272140611027),\n",
       " (56, 0.5196152422706629),\n",
       " (57, 1.2165525060596445),\n",
       " (58, 4.626013402488151),\n",
       " (59, 4.450842616853577),\n",
       " (60, 1.7691806012954137),\n",
       " (61, 4.368065933568311),\n",
       " (62, 4.613025037868318),\n",
       " (63, 4.114608122288196),\n",
       " (64, 1.6613247725836147),\n",
       " (65, 1.3453624047073716),\n",
       " (66, 2.3706539182259396),\n",
       " (67, 4.417012565071555),\n",
       " (68, 4.32434966208793),\n",
       " (69, 4.38748219369606),\n",
       " (70, 1.2569805089976531),\n",
       " (71, 1.473091986265623),\n",
       " (72, 4.566180022732349),\n",
       " (73, 3.9887341350358256),\n",
       " (74, 1.489966442575134),\n",
       " (75, 4.180908992073374),\n",
       " (76, 2.62678510731274),\n",
       " (77, 2.4839484696748437),\n",
       " (78, 2.6944387170614967),\n",
       " (79, 1.5459624833740306),\n",
       " (80, 4.505552130427524),\n",
       " (81, 0.7280109889280517),\n",
       " (82, 4.635730794599703),\n",
       " (83, 2.5159491250818258),\n",
       " (84, 4.342810150121693),\n",
       " (85, 4.296510211788166),\n",
       " (86, 1.9519221295943139),\n",
       " (87, 4.406812907306141),\n",
       " (88, 0.9273618495495705),\n",
       " (89, 1.489966442575134),\n",
       " (90, 1.6999999999999997),\n",
       " (91, 2.1377558326431947),\n",
       " (92, 0.7549834435270756),\n",
       " (93, 0.9327379053088819),\n",
       " (94, 1.0908712114635712),\n",
       " (95, 1.1618950038622253),\n",
       " (96, 4.215447781671598),\n",
       " (97, 2.042057785666213),\n",
       " (98, 1.0723805294763613),\n",
       " (99, 0.5099019513592784),\n",
       " (100, 4.318564576337836),\n",
       " (101, 1.4525839046333948),\n",
       " (102, 1.5132745950421556),\n",
       " (103, 0.7874007874011811),\n",
       " (104, 1.4832396974191322),\n",
       " (105, 4.456455991031438),\n",
       " (106, 4.273172123844299),\n",
       " (107, 4.376071297408212),\n",
       " (108, 0.9327379053088815),\n",
       " (109, 1.7233687939614086),\n",
       " (110, 2.6851443164195112),\n",
       " (111, 4.486646854834911)]"
      ]
     },
     "execution_count": 43,
     "metadata": {},
     "output_type": "execute_result"
    }
   ],
   "source": [
    "knn._get_distances(X_test[0])"
   ]
  },
  {
   "cell_type": "markdown",
   "metadata": {},
   "source": [
    "Great! Now, try out your new KNN classifier on a sample dataset to see how well it works!\n",
    "\n",
    "## Testing Our KNN Classifier\n",
    "\n",
    "In order to test the performance of yur model, import the **_Iris Dataset_**. Specifically, use the `load_iris` function, which can be found inside of the `sklearn.datasets` module. Then call this function, and use the object it returns. Also import `train_test_split` from `sklearn.model_selection`, as well as `accuracy_score` from `sklearn.metrics`.  Note that there are **_3 classes_** in the Iris Dataset, making this a multi-categorical classification problem. This means that you can't use evaluation metrics that are meant for binary classification problems. For this, just stick to accuracy for now. \n",
    "\n",
    "Run the cell below to import everything you'll need from sklearn to test our model. "
   ]
  },
  {
   "cell_type": "code",
   "execution_count": 11,
   "metadata": {},
   "outputs": [],
   "source": [
    "from sklearn.datasets import load_iris\n",
    "from sklearn.model_selection import train_test_split\n",
    "from sklearn.metrics import accuracy_score\n",
    "\n",
    "iris = load_iris()\n",
    "data = iris.data\n",
    "target = iris.target"
   ]
  },
  {
   "cell_type": "markdown",
   "metadata": {},
   "source": [
    "Now, you'll need to use `train_test_split` to split our training data into training and testing sets. Pass in the `data`, the `target`, and set a `test_size` of `0.25`."
   ]
  },
  {
   "cell_type": "code",
   "execution_count": 12,
   "metadata": {},
   "outputs": [],
   "source": [
    "X_train, X_test, y_train, y_test = train_test_split(data, target, test_size=0.25)"
   ]
  },
  {
   "cell_type": "markdown",
   "metadata": {},
   "source": [
    "Now, instantiate a knn object, and `fit` it to the data in `X_train` and the labels in `y_train`."
   ]
  },
  {
   "cell_type": "code",
   "execution_count": 13,
   "metadata": {},
   "outputs": [],
   "source": [
    "knn = KNN()\n",
    "knn.fit(X_train, y_train)"
   ]
  },
  {
   "cell_type": "markdown",
   "metadata": {},
   "source": [
    "Now, create some predictions on the test data.  In the cell below, use the `.predict()` method to generate predictions for the data stored in `X_test`."
   ]
  },
  {
   "cell_type": "code",
   "execution_count": 28,
   "metadata": {},
   "outputs": [
    {
     "data": {
      "text/plain": [
       "array([5.9, 3. , 4.2, 1.5])"
      ]
     },
     "execution_count": 28,
     "metadata": {},
     "output_type": "execute_result"
    }
   ],
   "source": [
    "X_train[0]"
   ]
  },
  {
   "cell_type": "code",
   "execution_count": 30,
   "metadata": {},
   "outputs": [
    {
     "data": {
      "text/plain": [
       "(112, 4)"
      ]
     },
     "execution_count": 30,
     "metadata": {},
     "output_type": "execute_result"
    }
   ],
   "source": [
    "np.shape(knn.x_train)"
   ]
  },
  {
   "cell_type": "code",
   "execution_count": 38,
   "metadata": {},
   "outputs": [
    {
     "ename": "TypeError",
     "evalue": "'function' object is not iterable",
     "output_type": "error",
     "traceback": [
      "\u001b[0;31m\u001b[0m",
      "\u001b[0;31mTypeError\u001b[0mTraceback (most recent call last)",
      "\u001b[0;32m<ipython-input-38-78c6721d7461>\u001b[0m in \u001b[0;36m<module>\u001b[0;34m()\u001b[0m\n\u001b[0;32m----> 1\u001b[0;31m \u001b[0mpreds\u001b[0m \u001b[0;34m=\u001b[0m \u001b[0mknn\u001b[0m\u001b[0;34m.\u001b[0m\u001b[0mpredict\u001b[0m\u001b[0;34m(\u001b[0m\u001b[0mX_test\u001b[0m\u001b[0;34m)\u001b[0m\u001b[0;34m\u001b[0m\u001b[0m\n\u001b[0m",
      "\u001b[0;32m<ipython-input-35-fc482f481a96>\u001b[0m in \u001b[0;36mpredict\u001b[0;34m(self, X_test, k)\u001b[0m\n\u001b[1;32m      3\u001b[0m     \u001b[0;32mfor\u001b[0m \u001b[0mx\u001b[0m \u001b[0;32min\u001b[0m \u001b[0mX_test\u001b[0m\u001b[0;34m:\u001b[0m\u001b[0;34m\u001b[0m\u001b[0m\n\u001b[1;32m      4\u001b[0m         \u001b[0mdistance_array\u001b[0m \u001b[0;34m=\u001b[0m \u001b[0mself\u001b[0m\u001b[0;34m.\u001b[0m\u001b[0m_get_distances\u001b[0m\u001b[0;34m(\u001b[0m\u001b[0mx\u001b[0m\u001b[0;34m)\u001b[0m\u001b[0;34m\u001b[0m\u001b[0m\n\u001b[0;32m----> 5\u001b[0;31m         \u001b[0mk_nearest\u001b[0m \u001b[0;34m=\u001b[0m \u001b[0mself\u001b[0m\u001b[0;34m.\u001b[0m\u001b[0m_get_k_nearest\u001b[0m\u001b[0;34m(\u001b[0m\u001b[0mdistance_array\u001b[0m\u001b[0;34m,\u001b[0m\u001b[0mk\u001b[0m\u001b[0;34m)\u001b[0m\u001b[0;34m\u001b[0m\u001b[0m\n\u001b[0m\u001b[1;32m      6\u001b[0m         \u001b[0mys\u001b[0m\u001b[0;34m.\u001b[0m\u001b[0mappend\u001b[0m\u001b[0;34m(\u001b[0m\u001b[0mself\u001b[0m\u001b[0;34m.\u001b[0m\u001b[0m_get_label_prediction\u001b[0m\u001b[0;34m(\u001b[0m\u001b[0mk_nearest\u001b[0m\u001b[0;34m)\u001b[0m\u001b[0;34m)\u001b[0m\u001b[0;34m\u001b[0m\u001b[0m\n\u001b[1;32m      7\u001b[0m     \u001b[0;32mreturn\u001b[0m \u001b[0mys\u001b[0m\u001b[0;34m\u001b[0m\u001b[0m\n",
      "\u001b[0;32m<ipython-input-37-b6e3dddfe1f9>\u001b[0m in \u001b[0;36m_get_k_nearest\u001b[0;34m(self, dists, k)\u001b[0m\n\u001b[1;32m      1\u001b[0m \u001b[0;32mdef\u001b[0m \u001b[0m_get_k_nearest\u001b[0m\u001b[0;34m(\u001b[0m\u001b[0mself\u001b[0m\u001b[0;34m,\u001b[0m \u001b[0mdists\u001b[0m\u001b[0;34m,\u001b[0m \u001b[0mk\u001b[0m\u001b[0;34m)\u001b[0m\u001b[0;34m:\u001b[0m\u001b[0;34m\u001b[0m\u001b[0m\n\u001b[0;32m----> 2\u001b[0;31m     \u001b[0msorted_dists\u001b[0m \u001b[0;34m=\u001b[0m \u001b[0msorted\u001b[0m\u001b[0;34m(\u001b[0m\u001b[0mdists\u001b[0m\u001b[0;34m,\u001b[0m \u001b[0mkey\u001b[0m\u001b[0;34m=\u001b[0m\u001b[0;32mlambda\u001b[0m \u001b[0mx\u001b[0m\u001b[0;34m:\u001b[0m \u001b[0mx\u001b[0m\u001b[0;34m[\u001b[0m\u001b[0;36m1\u001b[0m\u001b[0;34m]\u001b[0m\u001b[0;34m)\u001b[0m\u001b[0;34m\u001b[0m\u001b[0m\n\u001b[0m\u001b[1;32m      3\u001b[0m \u001b[0;34m\u001b[0m\u001b[0m\n\u001b[1;32m      4\u001b[0m     \u001b[0;32mreturn\u001b[0m \u001b[0msorted_dists\u001b[0m\u001b[0;34m[\u001b[0m\u001b[0;36m0\u001b[0m\u001b[0;34m:\u001b[0m\u001b[0mk\u001b[0m\u001b[0;34m]\u001b[0m\u001b[0;34m\u001b[0m\u001b[0m\n\u001b[1;32m      5\u001b[0m \u001b[0;34m\u001b[0m\u001b[0m\n",
      "\u001b[0;31mTypeError\u001b[0m: 'function' object is not iterable"
     ]
    }
   ],
   "source": [
    "preds = knn.predict(X_test)"
   ]
  },
  {
   "cell_type": "markdown",
   "metadata": {},
   "source": [
    "And now, for the moment of truth! Test the accuracy of your predictions. In the cell below, complete the call to `accuracy_score` by passing in `y_test` and our `preds`!"
   ]
  },
  {
   "cell_type": "code",
   "execution_count": null,
   "metadata": {},
   "outputs": [],
   "source": [
    "print(\"Testing Accuracy: {}\".format(accuracy_score(None, None)))\n",
    "# Expected Output: Testing Accuracy: 0.9736842105263158"
   ]
  },
  {
   "cell_type": "markdown",
   "metadata": {},
   "source": [
    "Over 97% accuracy! Not bad for a handwritten machine learning classifier!\n",
    "\n",
    "## Summary\n",
    "\n",
    "That was great! Next, you'll dive a little deeper into evaluating performance of a KNN algorithm!"
   ]
  }
 ],
 "metadata": {
  "kernelspec": {
   "display_name": "Python 3",
   "language": "python",
   "name": "python3"
  },
  "language_info": {
   "codemirror_mode": {
    "name": "ipython",
    "version": 3
   },
   "file_extension": ".py",
   "mimetype": "text/x-python",
   "name": "python",
   "nbconvert_exporter": "python",
   "pygments_lexer": "ipython3",
   "version": "3.6.6"
  }
 },
 "nbformat": 4,
 "nbformat_minor": 2
}
